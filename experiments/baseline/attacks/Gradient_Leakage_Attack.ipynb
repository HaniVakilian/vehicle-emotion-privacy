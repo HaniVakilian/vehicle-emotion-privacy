{
 "cells": [
  {
   "cell_type": "code",
   "execution_count": 11,
   "id": "99c0fb3c-77d7-4c48-9472-be08da027313",
   "metadata": {},
   "outputs": [
    {
     "name": "stdout",
     "output_type": "stream",
     "text": [
      "Current working directory: /Users/haniyehvakilian/vehicle-emotion-privacy/experiments/baseline/attacks\n",
      "Does '../../federated/client_1_flower.py' exist? True\n",
      "Does '../../federated/client_2_flower.py' exist? True\n",
      "Does '../../federated/client_3_flower.py' exist? True\n"
     ]
    }
   ],
   "source": [
    "import os\n",
    "\n",
    "print(\"Current working directory:\", os.getcwd())\n",
    "\n",
    "for i in range(1, 4):\n",
    "    path = f\"../../federated/client_{i}_flower.py\"\n",
    "    print(f\"Does '{path}' exist? {os.path.exists(path)}\")"
   ]
  },
  {
   "cell_type": "code",
   "execution_count": 12,
   "id": "5574a01a-0534-4d24-8c75-0813d53bdbf7",
   "metadata": {},
   "outputs": [],
   "source": [
    "#\"We're going to simulate a gradient leakage attack: trying to reconstruct a private input using only its gradient.\""
   ]
  },
  {
   "cell_type": "code",
   "execution_count": 14,
   "id": "4e2db8f8-f0eb-432b-8f52-088b4e744c79",
   "metadata": {},
   "outputs": [
    {
     "ename": "NameError",
     "evalue": "name 'MyLocalModel' is not defined",
     "output_type": "error",
     "traceback": [
      "\u001b[0;31m---------------------------------------------------------------------------\u001b[0m",
      "\u001b[0;31mNameError\u001b[0m                                 Traceback (most recent call last)",
      "Cell \u001b[0;32mIn[14], line 3\u001b[0m\n\u001b[1;32m      1\u001b[0m \u001b[38;5;66;03m# Example loading\u001b[39;00m\n\u001b[1;32m      2\u001b[0m \u001b[38;5;28;01mimport\u001b[39;00m\u001b[38;5;250m \u001b[39m\u001b[38;5;21;01mtorch\u001b[39;00m\u001b[38;5;241m,\u001b[39m\u001b[38;5;250m \u001b[39m\u001b[38;5;21;01mtorch\u001b[39;00m\u001b[38;5;21;01m.\u001b[39;00m\u001b[38;5;21;01mnn\u001b[39;00m\u001b[38;5;250m \u001b[39m\u001b[38;5;28;01mas\u001b[39;00m\u001b[38;5;250m \u001b[39m\u001b[38;5;21;01mnn\u001b[39;00m\n\u001b[0;32m----> 3\u001b[0m model \u001b[38;5;241m=\u001b[39m \u001b[43mMyLocalModel\u001b[49m()\n\u001b[1;32m      4\u001b[0m model\u001b[38;5;241m.\u001b[39mload_state_dict(torch\u001b[38;5;241m.\u001b[39mload(\u001b[38;5;124m\"\u001b[39m\u001b[38;5;124m../../federated/data/client_1_data_V2.csv\u001b[39m\u001b[38;5;124m\"\u001b[39m))\n\u001b[1;32m      5\u001b[0m model\u001b[38;5;241m.\u001b[39meval()\n",
      "\u001b[0;31mNameError\u001b[0m: name 'MyLocalModel' is not defined"
     ]
    }
   ],
   "source": [
    "# Example loading\n",
    "import torch, torch.nn as nn\n",
    "model = MyLocalModel()\n",
    "model.load_state_dict(torch.load(\"../../federated/data/client_1_data_V2.csv\"))\n",
    "model.eval()\n",
    "\n",
    "# Load one input and label (from client data)\n",
    "X, y = ...  # first sample"
   ]
  },
  {
   "cell_type": "code",
   "execution_count": null,
   "id": "107d8696-ba7e-444c-b841-42f2eb71ace2",
   "metadata": {},
   "outputs": [],
   "source": [
    "import torch.nn as nn\n",
    "\n",
    "NUM_CLASSES = 6  # Always use 6, even if some classes are missing in the client's data\n",
    "model = nn.Sequential(\n",
    "    nn.Linear(X.shape[1], 16),\n",
    "    nn.ReLU(),\n",
    "    nn.Linear(16, 8),\n",
    "    nn.ReLU(),\n",
    "    nn.Linear(8, NUM_CLASSES)\n",
    ")"
   ]
  }
 ],
 "metadata": {
  "kernelspec": {
   "display_name": "Python 3 (ipykernel)",
   "language": "python",
   "name": "python3"
  },
  "language_info": {
   "codemirror_mode": {
    "name": "ipython",
    "version": 3
   },
   "file_extension": ".py",
   "mimetype": "text/x-python",
   "name": "python",
   "nbconvert_exporter": "python",
   "pygments_lexer": "ipython3",
   "version": "3.10.4"
  }
 },
 "nbformat": 4,
 "nbformat_minor": 5
}
